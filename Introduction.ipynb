{
  "nbformat": 4,
  "nbformat_minor": 0,
  "metadata": {
    "colab": {
      "name": "Introduction.ipynb",
      "provenance": [],
      "authorship_tag": "ABX9TyMpC0Ytk96roih6Iz6GNGVu",
      "include_colab_link": true
    },
    "kernelspec": {
      "name": "python3",
      "display_name": "Python 3"
    },
    "language_info": {
      "name": "python"
    }
  },
  "cells": [
    {
      "cell_type": "markdown",
      "metadata": {
        "id": "view-in-github",
        "colab_type": "text"
      },
      "source": [
        "<a href=\"https://colab.research.google.com/github/tohnperfect/BasicProg_DataViz65/blob/main/Introduction.ipynb\" target=\"_parent\"><img src=\"https://colab.research.google.com/assets/colab-badge.svg\" alt=\"Open In Colab\"/></a>"
      ]
    },
    {
      "cell_type": "markdown",
      "source": [
        "ธนพงศ์ อินทระ (6712)"
      ],
      "metadata": {
        "id": "wyi8_3l9FbHk"
      }
    },
    {
      "cell_type": "markdown",
      "source": [
        "# Markdown \n",
        "\n",
        "https://www.markdownguide.org/cheat-sheet/"
      ],
      "metadata": {
        "id": "la4svJV9GA_j"
      }
    },
    {
      "cell_type": "markdown",
      "source": [
        "## heading2  "
      ],
      "metadata": {
        "id": "oT7aVHwKGVSu"
      }
    },
    {
      "cell_type": "code",
      "source": [
        "print('Thanapong')"
      ],
      "metadata": {
        "colab": {
          "base_uri": "https://localhost:8080/"
        },
        "id": "0Mv3RZ4SFrNV",
        "outputId": "7b366743-5caf-44b2-951c-89c2a8604fc3"
      },
      "execution_count": 1,
      "outputs": [
        {
          "output_type": "stream",
          "name": "stdout",
          "text": [
            "Thanapong\n"
          ]
        }
      ]
    },
    {
      "cell_type": "code",
      "source": [
        ""
      ],
      "metadata": {
        "id": "2genQswEHF8T"
      },
      "execution_count": null,
      "outputs": []
    }
  ]
}